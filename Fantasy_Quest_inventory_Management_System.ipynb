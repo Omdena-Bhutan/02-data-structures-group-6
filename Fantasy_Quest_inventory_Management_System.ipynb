{
  "nbformat": 4,
  "nbformat_minor": 0,
  "metadata": {
    "colab": {
      "provenance": [],
      "toc_visible": true,
      "authorship_tag": "ABX9TyPiBj8Lc2hDOlrnETt964E0",
      "include_colab_link": true
    },
    "kernelspec": {
      "name": "python3",
      "display_name": "Python 3"
    },
    "language_info": {
      "name": "python"
    }
  },
  "cells": [
    {
      "cell_type": "markdown",
      "metadata": {
        "id": "view-in-github",
        "colab_type": "text"
      },
      "source": [
        "<a href=\"https://colab.research.google.com/github/Omdena-Bhutan/02-data-structures-group-6/blob/gyeltshen-tashi/Fantasy_Quest_inventory_Management_System.ipynb\" target=\"_parent\"><img src=\"https://colab.research.google.com/assets/colab-badge.svg\" alt=\"Open In Colab\"/></a>"
      ]
    },
    {
      "cell_type": "markdown",
      "source": [
        "### Part 1"
      ],
      "metadata": {
        "id": "pu29h418Tx0b"
      }
    },
    {
      "cell_type": "code",
      "execution_count": 11,
      "metadata": {
        "id": "rkPpG6dMJT4c"
      },
      "outputs": [],
      "source": [
        "character_profile = {\n",
        "    'name': \"Alistair the Brave\",\n",
        "    'level': 1,\n",
        "    'health': 100,\n",
        "    'mana': 50,\n",
        "    'gold': 50.75,\n",
        "    'is_alive': True\n",
        "}"
      ]
    },
    {
      "cell_type": "code",
      "source": [
        "print(f\"character: {character_profile['name']}, level: {character_profile['level']}\")"
      ],
      "metadata": {
        "colab": {
          "base_uri": "https://localhost:8080/"
        },
        "id": "pSvmu8mBRxpF",
        "outputId": "b68fdc64-4b9b-4dd2-d8da-788441571a1b"
      },
      "execution_count": 12,
      "outputs": [
        {
          "output_type": "stream",
          "name": "stdout",
          "text": [
            "character: Alistair the Brave, level: 1\n"
          ]
        }
      ]
    },
    {
      "cell_type": "code",
      "source": [
        "character_profile['health'] = 85\n",
        "print(character_profile['health'])"
      ],
      "metadata": {
        "colab": {
          "base_uri": "https://localhost:8080/"
        },
        "id": "vKti_uwOSfL2",
        "outputId": "d05efefe-c6dd-40b6-f84a-8e4d1cf80fb8"
      },
      "execution_count": 13,
      "outputs": [
        {
          "output_type": "stream",
          "name": "stdout",
          "text": [
            "85\n"
          ]
        }
      ]
    },
    {
      "cell_type": "code",
      "source": [
        "character_profile['experience'] = 0"
      ],
      "metadata": {
        "id": "VTRreGxPTdbn"
      },
      "execution_count": 14,
      "outputs": []
    },
    {
      "cell_type": "code",
      "source": [
        "print(character_profile)"
      ],
      "metadata": {
        "colab": {
          "base_uri": "https://localhost:8080/"
        },
        "id": "yrrgY3qETllO",
        "outputId": "f44893bf-2cd0-4848-9d17-238e5bd050b7"
      },
      "execution_count": 15,
      "outputs": [
        {
          "output_type": "stream",
          "name": "stdout",
          "text": [
            "{'name': 'Alistair the Brave', 'level': 1, 'health': 85, 'mana': 50, 'gold': 50.75, 'is_alive': True, 'experience': 0}\n"
          ]
        }
      ]
    },
    {
      "cell_type": "markdown",
      "source": [
        "### Part 2"
      ],
      "metadata": {
        "id": "zhZwc1sVT93x"
      }
    },
    {
      "cell_type": "code",
      "source": [
        "inventory = ['sword', 'shield', 'health potion']"
      ],
      "metadata": {
        "id": "uaHAUi1hUAZf"
      },
      "execution_count": 16,
      "outputs": []
    },
    {
      "cell_type": "code",
      "source": [
        "inventory.append('mana potion')"
      ],
      "metadata": {
        "id": "FMn5zbxLUP1j"
      },
      "execution_count": 17,
      "outputs": []
    },
    {
      "cell_type": "code",
      "source": [
        "inventory.remove('shield')"
      ],
      "metadata": {
        "id": "vJREnSHjV8Ml"
      },
      "execution_count": 18,
      "outputs": []
    },
    {
      "cell_type": "code",
      "source": [
        "for items in inventory:\n",
        "  print(items)"
      ],
      "metadata": {
        "colab": {
          "base_uri": "https://localhost:8080/"
        },
        "id": "cms4VxMPWQkH",
        "outputId": "e9eef12a-01a2-4d99-a4f3-2ff7e64b5e8d"
      },
      "execution_count": 19,
      "outputs": [
        {
          "output_type": "stream",
          "name": "stdout",
          "text": [
            "sword\n",
            "health potion\n",
            "mana potion\n"
          ]
        }
      ]
    },
    {
      "cell_type": "markdown",
      "source": [
        "### Part 3"
      ],
      "metadata": {
        "id": "DmeqfLwJWteA"
      }
    },
    {
      "cell_type": "code",
      "source": [
        "base_stats = (10, 8, 12)"
      ],
      "metadata": {
        "id": "TP9wEQgFWxOj"
      },
      "execution_count": 21,
      "outputs": []
    },
    {
      "cell_type": "code",
      "source": [
        "print(\"Why use a tuple for base stats?\")\n",
        "print(\"Because they are immutable and won't change\")"
      ],
      "metadata": {
        "colab": {
          "base_uri": "https://localhost:8080/"
        },
        "id": "riIUiaPtYgrf",
        "outputId": "39c2ce61-8ddd-47f1-f9a2-c22bb1e35244"
      },
      "execution_count": 30,
      "outputs": [
        {
          "output_type": "stream",
          "name": "stdout",
          "text": [
            "Why use a tuple for base stats?\n",
            "Because they are immutable and won't change\n"
          ]
        }
      ]
    },
    {
      "cell_type": "code",
      "source": [
        "intelligence = base_stats[2]\n",
        "print(f\"intelligence: {intelligence}\")"
      ],
      "metadata": {
        "colab": {
          "base_uri": "https://localhost:8080/"
        },
        "id": "vKhWQ94fY0E5",
        "outputId": "74185c8d-4701-455c-f4ca-9d5fb4a8dde6"
      },
      "execution_count": 25,
      "outputs": [
        {
          "output_type": "stream",
          "name": "stdout",
          "text": [
            "intelligence: 12\n"
          ]
        }
      ]
    },
    {
      "cell_type": "code",
      "source": [
        "try:\n",
        "  base_stats[1] = 10\n",
        "except TypeError as e:\n",
        "  print(\"values cannot be changed in tuples\")"
      ],
      "metadata": {
        "colab": {
          "base_uri": "https://localhost:8080/"
        },
        "id": "FO8lCBfiZFsi",
        "outputId": "1f1a2c9b-feda-4256-832c-ecc9040e14a3"
      },
      "execution_count": 31,
      "outputs": [
        {
          "output_type": "stream",
          "name": "stdout",
          "text": [
            "values cannot be changed in tuples\n"
          ]
        }
      ]
    },
    {
      "cell_type": "code",
      "source": [
        "print(\"values can't be changed in tuples\")"
      ],
      "metadata": {
        "colab": {
          "base_uri": "https://localhost:8080/"
        },
        "id": "3MxLSiu3ZW0H",
        "outputId": "2f3dd020-a1e4-4252-d1c6-1de7259fc089"
      },
      "execution_count": 28,
      "outputs": [
        {
          "output_type": "stream",
          "name": "stdout",
          "text": [
            "values can't be changed in tuples\n"
          ]
        }
      ]
    },
    {
      "cell_type": "markdown",
      "source": [
        "### Part 4"
      ],
      "metadata": {
        "id": "Tp2VoZCTZqNP"
      }
    },
    {
      "cell_type": "code",
      "source": [
        "quest_log = {\"Defeat the Goblin King\", \"Find the Lost Amulet\"}"
      ],
      "metadata": {
        "id": "8RZ-8dPGZsfL"
      },
      "execution_count": 33,
      "outputs": []
    },
    {
      "cell_type": "code",
      "source": [
        "quest_log.add(\"Deliver the Old Scroll\")\n",
        "print(quest_log)"
      ],
      "metadata": {
        "colab": {
          "base_uri": "https://localhost:8080/"
        },
        "id": "-8Ej0jyHbiJz",
        "outputId": "d72ac53e-fb0d-48fb-ac9a-b74c35014680"
      },
      "execution_count": 35,
      "outputs": [
        {
          "output_type": "stream",
          "name": "stdout",
          "text": [
            "{'Defeat the Goblin King', 'Deliver the Old Scroll', 'Find the Lost Amulet'}\n"
          ]
        }
      ]
    },
    {
      "cell_type": "code",
      "source": [
        "quest_log.add(\"Defeat the Goblin King\")"
      ],
      "metadata": {
        "id": "LdcDtmNCb03F"
      },
      "execution_count": 37,
      "outputs": []
    },
    {
      "cell_type": "code",
      "source": [
        "quest_log.remove(\"Find the Lost Amulet\")\n",
        "print(quest_log)"
      ],
      "metadata": {
        "colab": {
          "base_uri": "https://localhost:8080/"
        },
        "id": "fAykKRPLcMC5",
        "outputId": "a359b75d-cae4-4143-fa22-0b2444f3557e"
      },
      "execution_count": 38,
      "outputs": [
        {
          "output_type": "stream",
          "name": "stdout",
          "text": [
            "{'Defeat the Goblin King', 'Deliver the Old Scroll'}\n"
          ]
        }
      ]
    },
    {
      "cell_type": "markdown",
      "source": [
        "### Part 5"
      ],
      "metadata": {
        "id": "MYRGQfQXcWQa"
      }
    },
    {
      "cell_type": "code",
      "source": [
        "character_sheet = {\n",
        "    'profile': character_profile,\n",
        "    'inventory': inventory,\n",
        "    'quests': quest_log\n",
        "}"
      ],
      "metadata": {
        "id": "wuKdZMfocaJg"
      },
      "execution_count": 39,
      "outputs": []
    },
    {
      "cell_type": "code",
      "source": [
        "print(character_sheet)"
      ],
      "metadata": {
        "colab": {
          "base_uri": "https://localhost:8080/"
        },
        "id": "V72bvE2-czSr",
        "outputId": "677966bd-fea0-4386-fab2-32be3e9f5fa6"
      },
      "execution_count": 40,
      "outputs": [
        {
          "output_type": "stream",
          "name": "stdout",
          "text": [
            "{'profile': {'name': 'Alistair the Brave', 'level': 1, 'health': 85, 'mana': 50, 'gold': 50.75, 'is_alive': True, 'experience': 0}, 'inventory': ['sword', 'health potion', 'mana potion'], 'quests': {'Defeat the Goblin King', 'Deliver the Old Scroll'}}\n"
          ]
        }
      ]
    }
  ]
}